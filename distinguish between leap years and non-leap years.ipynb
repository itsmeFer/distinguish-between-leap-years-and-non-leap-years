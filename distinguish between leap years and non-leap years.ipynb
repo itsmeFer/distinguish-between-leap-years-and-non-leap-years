{
 "cells": [
  {
   "cell_type": "code",
   "execution_count": null,
   "id": "e13c5398-faec-4d18-a40a-c37e78192812",
   "metadata": {},
   "outputs": [],
   "source": [
    "def cek_tahun_kabisat(tahun):\n",
    "    if (tahun % 4) == 0:\n",
    "        if (tahun % 100) == 0:\n",
    "            if (tahun % 400) == 0:\n",
    "                return True\n",
    "            else:\n",
    "                return False\n",
    "        else:\n",
    "            return True\n",
    "    else:\n",
    "        return False\n",
    "\n",
    "tahun = int(input(\"Masukkan tahun: \"))\n",
    "\n",
    "if cek_tahun_kabisat(tahun):\n",
    "    print(f\"{tahun} adalah tahun kabisat.\")\n",
    "else:\n",
    "    print(f\"{tahun} bukan tahun kabisat.\")"
   ]
  }
 ],
 "metadata": {
  "kernelspec": {
   "display_name": "Python 3 (ipykernel)",
   "language": "python",
   "name": "python3"
  },
  "language_info": {
   "codemirror_mode": {
    "name": "ipython",
    "version": 3
   },
   "file_extension": ".py",
   "mimetype": "text/x-python",
   "name": "python",
   "nbconvert_exporter": "python",
   "pygments_lexer": "ipython3",
   "version": "3.11.7"
  }
 },
 "nbformat": 4,
 "nbformat_minor": 5
}
